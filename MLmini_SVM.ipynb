{
  "nbformat": 4,
  "nbformat_minor": 0,
  "metadata": {
    "colab": {
      "name": "MLmini-SVM.ipynb",
      "provenance": [],
      "authorship_tag": "ABX9TyNaarTVjWm/OL+JUW0k1NLo",
      "include_colab_link": true
    },
    "kernelspec": {
      "name": "python3",
      "display_name": "Python 3"
    }
  },
  "cells": [
    {
      "cell_type": "markdown",
      "metadata": {
        "id": "view-in-github",
        "colab_type": "text"
      },
      "source": [
        "<a href=\"https://colab.research.google.com/github/M-H-Amini/MachineLearningMiniCourse/blob/master/MLmini_SVM.ipynb\" target=\"_parent\"><img src=\"https://colab.research.google.com/assets/colab-badge.svg\" alt=\"Open In Colab\"/></a>"
      ]
    },
    {
      "cell_type": "markdown",
      "metadata": {
        "id": "Cm-1r1Ns7Hg0",
        "colab_type": "text"
      },
      "source": [
        "# In The Name Of ALLAH\n",
        "# Machine Learning *mini* Course\n",
        "### PythonChallenge.ir\n",
        "### Mohammad Hossein Amini (mhamini@aut.ac.ir)\n",
        "\n",
        "# Support Vector Machines"
      ]
    },
    {
      "cell_type": "markdown",
      "metadata": {
        "id": "pc4QTjIMBasO",
        "colab_type": "text"
      },
      "source": [
        "# Introduction\n",
        "\n",
        "The theoretical stuff has been discussed in the video lectures. Let's implement a little...\n",
        "\n",
        "First of all, we should import some modules."
      ]
    },
    {
      "cell_type": "code",
      "metadata": {
        "id": "I9JwkMSK7GMV",
        "colab_type": "code",
        "colab": {}
      },
      "source": [
        "import numpy as np\n",
        "import matplotlib.pyplot as plt\n",
        "from sklearn import datasets, svm"
      ],
      "execution_count": 0,
      "outputs": []
    },
    {
      "cell_type": "markdown",
      "metadata": {
        "id": "z2dfprT1BcCf",
        "colab_type": "text"
      },
      "source": [
        "Today, we use the **iris** dataset. It's a famous dataset with 150 samples. Let's load it."
      ]
    },
    {
      "cell_type": "code",
      "metadata": {
        "id": "h44hlZnD7kNT",
        "colab_type": "code",
        "colab": {}
      },
      "source": [
        "iris = datasets.load_iris()\n",
        "X = iris.data\n",
        "Y = iris.target"
      ],
      "execution_count": 0,
      "outputs": []
    },
    {
      "cell_type": "markdown",
      "metadata": {
        "id": "gCgEARQGCRW3",
        "colab_type": "text"
      },
      "source": [
        "Using **SVM** in *sklearn* is so easy. First of all, we make an object for doing the job."
      ]
    },
    {
      "cell_type": "code",
      "metadata": {
        "id": "iqdhRSMy8VCT",
        "colab_type": "code",
        "colab": {}
      },
      "source": [
        "model = svm.SVC(kernel = 'rbf')"
      ],
      "execution_count": 0,
      "outputs": []
    },
    {
      "cell_type": "markdown",
      "metadata": {
        "id": "6Y8Tsy7oCj2v",
        "colab_type": "text"
      },
      "source": [
        "Then we can easily call **fit** method to train our classifier."
      ]
    },
    {
      "cell_type": "code",
      "metadata": {
        "id": "rW75RU0FCihn",
        "colab_type": "code",
        "colab": {}
      },
      "source": [
        "model.fit(X, Y)"
      ],
      "execution_count": 0,
      "outputs": []
    },
    {
      "cell_type": "markdown",
      "metadata": {
        "id": "WSZL4zapCstz",
        "colab_type": "text"
      },
      "source": [
        "After training, we can use our model to predict inputs."
      ]
    },
    {
      "cell_type": "code",
      "metadata": {
        "id": "txT9A-I1-TkT",
        "colab_type": "code",
        "colab": {}
      },
      "source": [
        "predicted = model.predict(X)"
      ],
      "execution_count": 0,
      "outputs": []
    },
    {
      "cell_type": "markdown",
      "metadata": {
        "id": "vlg8PmXhCyYB",
        "colab_type": "text"
      },
      "source": [
        "Let's see how we've done!"
      ]
    },
    {
      "cell_type": "code",
      "metadata": {
        "id": "SOenyUHW9_Kz",
        "colab_type": "code",
        "colab": {}
      },
      "source": [
        "for i in range(X.shape[0]):\n",
        "  print('No: {}\\t Target: {}\\t Predicted: {}'.format(i+1, Y[i], predicted[i]))"
      ],
      "execution_count": 0,
      "outputs": []
    },
    {
      "cell_type": "code",
      "metadata": {
        "id": "d2ke5YkU-ebN",
        "colab_type": "code",
        "colab": {}
      },
      "source": [
        "wrongs = [i for i in range(X.shape[0]) if Y[i]!=predicted[i]]\n",
        "print('Wrong predictions: ', wrongs)\n",
        "print('No of wrong predictions: ', len(wrongs))"
      ],
      "execution_count": 0,
      "outputs": []
    },
    {
      "cell_type": "markdown",
      "metadata": {
        "id": "Sd1_XyFpC4VB",
        "colab_type": "text"
      },
      "source": [
        "# Train and Test Separation\n",
        "As discussed, in practice, it's not a good idea to train over all samples. So we select some of the samples, **train samples**, to be used for the training and after that we use **test samples** to see how well our model have learned!"
      ]
    },
    {
      "cell_type": "code",
      "metadata": {
        "id": "r7mpfdWI_AEc",
        "colab_type": "code",
        "colab": {}
      },
      "source": [
        "test_indexes = [5*i for i in range(30)]\n",
        "train_indexes = [i for i in range(150) if i not in test_indexes]\n",
        "\n",
        "X_train = X[train_indexes, :]\n",
        "Y_train = Y[train_indexes]\n",
        "X_test = X[test_indexes, :]\n",
        "Y_test = Y[test_indexes]"
      ],
      "execution_count": 0,
      "outputs": []
    },
    {
      "cell_type": "code",
      "metadata": {
        "id": "cuQ29vRfAp0U",
        "colab_type": "code",
        "colab": {}
      },
      "source": [
        "model = svm.SVC()\n",
        "model.fit(X_train, Y_train)"
      ],
      "execution_count": 0,
      "outputs": []
    },
    {
      "cell_type": "code",
      "metadata": {
        "id": "mhmO7sFWA1W6",
        "colab_type": "code",
        "colab": {}
      },
      "source": [
        "predicted = model.predict(X_test)\n",
        "for i in range(Y_test.shape[0]):\n",
        "  print('No: {}\\t Target: {}\\t Predicted: {}'.format(i+1, Y_test[i], predicted[i]))"
      ],
      "execution_count": 0,
      "outputs": []
    },
    {
      "cell_type": "code",
      "metadata": {
        "id": "lWOX0pq2mr-F",
        "colab_type": "code",
        "colab": {}
      },
      "source": [
        "wrongs = [i for i in range(X_test.shape[0]) if Y_test[i]!=predicted[i]]\n",
        "print('Wrong predictions: ', wrongs)\n",
        "print('No of wrong predictions: ', len(wrongs))"
      ],
      "execution_count": 0,
      "outputs": []
    }
  ]
}